{
 "cells": [
  {
   "cell_type": "code",
   "execution_count": 4,
   "id": "190f5c2f",
   "metadata": {},
   "outputs": [
    {
     "name": "stderr",
     "output_type": "stream",
     "text": [
      "c:\\Users\\isaac\\AppData\\Local\\Programs\\Python\\Python313\\Lib\\site-packages\\ctranslate2\\__init__.py:8: UserWarning: pkg_resources is deprecated as an API. See https://setuptools.pypa.io/en/latest/pkg_resources.html. The pkg_resources package is slated for removal as early as 2025-11-30. Refrain from using this package or pin to Setuptools<81.\n",
      "  import pkg_resources\n",
      "c:\\Users\\isaac\\AppData\\Local\\Programs\\Python\\Python313\\Lib\\site-packages\\tqdm\\auto.py:21: TqdmWarning: IProgress not found. Please update jupyter and ipywidgets. See https://ipywidgets.readthedocs.io/en/stable/user_install.html\n",
      "  from .autonotebook import tqdm as notebook_tqdm\n"
     ]
    }
   ],
   "source": [
    "from faster_whisper import WhisperModel\n",
    "\n",
    "# אפשר לבחור מודל: tiny, base, small, medium, large\n",
    "model = WhisperModel(\"base\", device=\"cpu\")\n"
   ]
  },
  {
   "cell_type": "code",
   "execution_count": null,
   "id": "56cc1fdc",
   "metadata": {},
   "outputs": [],
   "source": [
    "audio_path = r\"C:\\Users\\isaac\\Downloads\\cv-corpus-19.0-delta-2024-09-13-en\\cv-corpus-19.0-delta-2024-09-13\\en\\clips\\common_voice_en_41227191.mp3\"\n",
    "\n",
    "segments, info = model.transcribe(audio_path, language='en')\n"
   ]
  },
  {
   "cell_type": "code",
   "execution_count": null,
   "id": "35da6dcb",
   "metadata": {},
   "outputs": [],
   "source": [
    "from pydub import AudioSegment\n",
    "\n",
    "audio = AudioSegment.from_file(audio_path)\n",
    "audio.export(\"audio.wav\", format=\"wav\")"
   ]
  },
  {
   "cell_type": "code",
   "execution_count": null,
   "id": "08f2925c",
   "metadata": {},
   "outputs": [],
   "source": [
    "for segment in segments:\n",
    "    print(f\"[{segment.start:.2f}s - {segment.end:.2f}s]: {segment.text}\")"
   ]
  },
  {
   "cell_type": "code",
   "execution_count": null,
   "id": "9b3e817f",
   "metadata": {},
   "outputs": [],
   "source": [
    "with open(\"transcription.txt\", \"w\", encoding=\"utf-8\") as f:\n",
    "    for segment in segments:\n",
    "        f.write(f\"[{segment.start:.2f}s - {segment.end:.2f}s] {segment.text}\\n\")"
   ]
  },
  {
   "cell_type": "code",
   "execution_count": null,
   "id": "56a4874e",
   "metadata": {},
   "outputs": [],
   "source": [
    "import pyaudio\n",
    "from faster_whisper import WhisperModel\n",
    "import numpy as np\n",
    "\n",
    "# הגדרת מודל\n",
    "model = WhisperModel(\"small\")\n",
    "\n",
    "# הגדרת PyAudio\n",
    "CHUNK = 1024  # גודל החבילה\n",
    "RATE = 16000  # קצב דגימה\n",
    "FORMAT = pyaudio.paInt16\n",
    "CHANNELS = 1\n",
    "\n",
    "p = pyaudio.PyAudio()\n",
    "stream = p.open(format=FORMAT, channels=CHANNELS, rate=RATE,input=True, frames_per_buffer=CHUNK)\n",
    "\n",
    "\n",
    "try:\n",
    "    buffer = []\n",
    "    while True:\n",
    "        data = stream.read(CHUNK)\n",
    "        \n",
    "        audio_chunk = np.frombuffer(data, dtype=np.int16).astype(np.float32) / 32768.0\n",
    "        buffer.append(audio_chunk)\n",
    "\n",
    "        if len(buffer) * CHUNK / RATE >= 5.0:\n",
    "            audio_input = np.concatenate(buffer)\n",
    "            segments, _ = model.transcribe(audio_input)\n",
    "            for segment in segments:\n",
    "                print(f\"[{segment.start:.2f}s - {segment.end:.2f}s]: {segment.text}\")\n",
    "            buffer = []\n",
    "\n",
    "except KeyboardInterrupt:\n",
    "    print(\"עצירת הקלטה.\")\n",
    "\n",
    "stream.stop_stream()\n",
    "stream.close()\n",
    "p.terminate()\n"
   ]
  },
  {
   "cell_type": "code",
   "execution_count": null,
   "id": "0e9f957a",
   "metadata": {},
   "outputs": [],
   "source": []
  },
  {
   "cell_type": "code",
   "execution_count": null,
   "id": "700bb21e",
   "metadata": {},
   "outputs": [
    {
     "name": "stdout",
     "output_type": "stream",
     "text": [
      "[0.00s - 5.00s]:  With this transition to the big time, the band shorten their name to stay below.\n",
      "[0.00s - 5.00s]:  Local brothels recruited extra staff to cope with the increase in business.\n",
      "[0.00s - 5.00s]:  With Fox on lead vocals, the three-sympti two short tours in Europe.\n",
      "[0.00s - 7.00s]:  Miramax requested cuts be made in Christopher initially refused.\n",
      "[0.00s - 6.00s]:  The key allows customers to buy plus bus for the Crawley and Brighton areas.\n",
      "[0.00s - 7.00s]:  In this position, he learned mathematics, Greek, Italian, Spanish, and several oriental languages.\n",
      "[0.00s - 3.00s]:  My books and my stories.\n",
      "[0.00s - 4.00s]:  They followed the street car lines to areas south of the raccoon river.\n",
      "[0.00s - 4.00s]:  She herself defended her verse as Holy Eurotica.\n",
      "[0.00s - 3.00s]:  In the pamphlet, what is to be done?\n",
      "[0.00s - 4.00s]:  To let us access, qualify them to the first season of the European Cup.\n",
      "[0.00s - 4.00s]:  The nearest school to Seacum Ferry is Riverside Primary School.\n",
      "[0.00s - 5.00s]:  He did not argue back, feeling that a dignified silence was the best rebuke.\n",
      "[0.00s - 4.00s]:  His patron, in his rise to the Pollock Bureau, was Mikail Suslov.\n",
      "[0.00s - 4.00s]:  Farming was organized on an open field system.\n",
      "[0.00s - 6.00s]:  He studied law and Portugal and worked for some time as a journalist.\n",
      "[0.00s - 7.00s]:  Prominent American sculptor, Haram Powers traveled to Europe to see the slave trade.\n"
     ]
    },
    {
     "ename": "KeyboardInterrupt",
     "evalue": "",
     "output_type": "error",
     "traceback": [
      "\u001b[31m---------------------------------------------------------------------------\u001b[39m",
      "\u001b[31mKeyboardInterrupt\u001b[39m                         Traceback (most recent call last)",
      "\u001b[36mCell\u001b[39m\u001b[36m \u001b[39m\u001b[32mIn[5]\u001b[39m\u001b[32m, line 10\u001b[39m\n\u001b[32m      8\u001b[39m \u001b[38;5;28;01mif\u001b[39;00m file.is_file():  \u001b[38;5;66;03m# מוודא שזה קובץ\u001b[39;00m\n\u001b[32m      9\u001b[39m     segments, info = model.transcribe(\u001b[38;5;28mstr\u001b[39m(file), language=\u001b[33m'\u001b[39m\u001b[33men\u001b[39m\u001b[33m'\u001b[39m)\n\u001b[32m---> \u001b[39m\u001b[32m10\u001b[39m \u001b[43m    \u001b[49m\u001b[38;5;28;43;01mfor\u001b[39;49;00m\u001b[43m \u001b[49m\u001b[43msegment\u001b[49m\u001b[43m \u001b[49m\u001b[38;5;129;43;01min\u001b[39;49;00m\u001b[43m \u001b[49m\u001b[43msegments\u001b[49m\u001b[43m:\u001b[49m\n\u001b[32m     11\u001b[39m \u001b[43m        \u001b[49m\u001b[38;5;28;43mprint\u001b[39;49m\u001b[43m(\u001b[49m\u001b[33;43mf\u001b[39;49m\u001b[33;43m\"\u001b[39;49m\u001b[33;43m[\u001b[39;49m\u001b[38;5;132;43;01m{\u001b[39;49;00m\u001b[43msegment\u001b[49m\u001b[43m.\u001b[49m\u001b[43mstart\u001b[49m\u001b[38;5;132;43;01m:\u001b[39;49;00m\u001b[33;43m.2f\u001b[39;49m\u001b[38;5;132;43;01m}\u001b[39;49;00m\u001b[33;43ms - \u001b[39;49m\u001b[38;5;132;43;01m{\u001b[39;49;00m\u001b[43msegment\u001b[49m\u001b[43m.\u001b[49m\u001b[43mend\u001b[49m\u001b[38;5;132;43;01m:\u001b[39;49;00m\u001b[33;43m.2f\u001b[39;49m\u001b[38;5;132;43;01m}\u001b[39;49;00m\u001b[33;43ms]: \u001b[39;49m\u001b[38;5;132;43;01m{\u001b[39;49;00m\u001b[43msegment\u001b[49m\u001b[43m.\u001b[49m\u001b[43mtext\u001b[49m\u001b[38;5;132;43;01m}\u001b[39;49;00m\u001b[33;43m\"\u001b[39;49m\u001b[43m)\u001b[49m\n",
      "\u001b[36mFile \u001b[39m\u001b[32mc:\\Users\\isaac\\AppData\\Local\\Programs\\Python\\Python313\\Lib\\site-packages\\faster_whisper\\transcribe.py:1164\u001b[39m, in \u001b[36mWhisperModel.generate_segments\u001b[39m\u001b[34m(self, features, tokenizer, options, log_progress, encoder_output)\u001b[39m\n\u001b[32m   1161\u001b[39m previous_tokens = all_tokens[prompt_reset_since:]\n\u001b[32m   1163\u001b[39m \u001b[38;5;28;01mif\u001b[39;00m seek > \u001b[32m0\u001b[39m \u001b[38;5;129;01mor\u001b[39;00m encoder_output \u001b[38;5;129;01mis\u001b[39;00m \u001b[38;5;28;01mNone\u001b[39;00m:\n\u001b[32m-> \u001b[39m\u001b[32m1164\u001b[39m     encoder_output = \u001b[38;5;28;43mself\u001b[39;49m\u001b[43m.\u001b[49m\u001b[43mencode\u001b[49m\u001b[43m(\u001b[49m\u001b[43msegment\u001b[49m\u001b[43m)\u001b[49m\n\u001b[32m   1166\u001b[39m \u001b[38;5;28;01mif\u001b[39;00m options.multilingual:\n\u001b[32m   1167\u001b[39m     results = \u001b[38;5;28mself\u001b[39m.model.detect_language(encoder_output)\n",
      "\u001b[36mFile \u001b[39m\u001b[32mc:\\Users\\isaac\\AppData\\Local\\Programs\\Python\\Python313\\Lib\\site-packages\\faster_whisper\\transcribe.py:1374\u001b[39m, in \u001b[36mWhisperModel.encode\u001b[39m\u001b[34m(self, features)\u001b[39m\n\u001b[32m   1371\u001b[39m     features = np.expand_dims(features, \u001b[32m0\u001b[39m)\n\u001b[32m   1372\u001b[39m features = get_ctranslate2_storage(features)\n\u001b[32m-> \u001b[39m\u001b[32m1374\u001b[39m \u001b[38;5;28;01mreturn\u001b[39;00m \u001b[38;5;28;43mself\u001b[39;49m\u001b[43m.\u001b[49m\u001b[43mmodel\u001b[49m\u001b[43m.\u001b[49m\u001b[43mencode\u001b[49m\u001b[43m(\u001b[49m\u001b[43mfeatures\u001b[49m\u001b[43m,\u001b[49m\u001b[43m \u001b[49m\u001b[43mto_cpu\u001b[49m\u001b[43m=\u001b[49m\u001b[43mto_cpu\u001b[49m\u001b[43m)\u001b[49m\n",
      "\u001b[31mKeyboardInterrupt\u001b[39m: "
     ]
    }
   ],
   "source": [
    "from pathlib import Path\n",
    "\n",
    "audio_path = r\"C:\\Users\\isaac\\Downloads\\cv-corpus-19.0-delta-2024-09-13-en\\cv-corpus-19.0-delta-2024-09-13\\en\\clips\"\n",
    "\n",
    "folder = Path(audio_path)\n",
    "\n",
    "for file in folder.iterdir():\n",
    "    if file.is_file(): \n",
    "        segments, info = model.transcribe(str(file), language='en')\n",
    "        for segment in segments:\n",
    "            print(f\"[{segment.start:.2f}s - {segment.end:.2f}s]: {segment.text}\")\n",
    "                \n",
    "        \n"
   ]
  }
 ],
 "metadata": {
  "kernelspec": {
   "display_name": "Python 3",
   "language": "python",
   "name": "python3"
  },
  "language_info": {
   "codemirror_mode": {
    "name": "ipython",
    "version": 3
   },
   "file_extension": ".py",
   "mimetype": "text/x-python",
   "name": "python",
   "nbconvert_exporter": "python",
   "pygments_lexer": "ipython3",
   "version": "3.13.3"
  }
 },
 "nbformat": 4,
 "nbformat_minor": 5
}
