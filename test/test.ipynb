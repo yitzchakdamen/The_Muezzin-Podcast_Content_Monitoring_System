{
 "cells": [
  {
   "cell_type": "code",
   "execution_count": null,
   "id": "f14d75e2",
   "metadata": {},
   "outputs": [],
   "source": [
    "from pathlib import Path\n",
    "from config import config\n",
    "import datetime\n",
    "\n",
    "\n",
    "podcast_files_path = config.PODCAST_FILES_PATH\n",
    "print(podcast_files_path)\n",
    "folder = Path(podcast_files_path)\n",
    "\n",
    "for file in folder.iterdir():\n",
    "    if file.is_file(): \n",
    "        print(file)\n",
    "        print(f\"File name: {file.name}\")\n",
    "        print(f\"File stem: {file.stem}\")\n",
    "        print(f\"File suffix: {file.suffix}\")\n",
    "        print(f\"Parent directory: {file.parent}\")\n",
    "\n",
    "        stats = file.stat()\n",
    "        print(f\"File size: {stats.st_size} bytes\")\n",
    "        print(f\"Last modification time: {datetime.datetime.fromtimestamp(stats.st_mtime)}\")\n",
    "        print(f\"Last metadata change time: {datetime.datetime.fromtimestamp(stats.st_ctime)}\")\n",
    "        print(f\"Last access time: {datetime.datetime.fromtimestamp(stats.st_atime)}\")\n",
    "\n",
    "        print(f\"Is it a file? {file.is_file()}\")\n",
    "        print(f\"Is it a directory? {file.is_dir()}\")\n"
   ]
  },
  {
   "cell_type": "code",
   "execution_count": null,
   "id": "2af281a2",
   "metadata": {},
   "outputs": [],
   "source": [
    "from pathlib import Path\n",
    "\n",
    "\n"
   ]
  },
  {
   "cell_type": "code",
   "execution_count": null,
   "id": "299498bd",
   "metadata": {},
   "outputs": [],
   "source": [
    "from kafka_tools.kafka_tools import KafkaTools\n",
    "\n",
    "c = KafkaTools.Consumer.get_consumer(\"file-metadata\"  ,group_id=\"aa\",bootstrap_servers=\"localhost:9092\" )\n",
    "for i in c:\n",
    "    print(i)"
   ]
  },
  {
   "cell_type": "code",
   "execution_count": null,
   "id": "446239ff",
   "metadata": {},
   "outputs": [],
   "source": []
  },
  {
   "cell_type": "code",
   "execution_count": null,
   "id": "0cd5a334",
   "metadata": {},
   "outputs": [],
   "source": [
    "from pymongo import MongoClient\n",
    "from gridfs import GridFS"
   ]
  },
  {
   "cell_type": "code",
   "execution_count": null,
   "id": "49e6ad8e",
   "metadata": {},
   "outputs": [],
   "source": [
    "client = MongoClient('mongodb://localhost:27017/')\n",
    "db = client['your_database_name']\n",
    "fs = GridFS(db)"
   ]
  },
  {
   "cell_type": "code",
   "execution_count": null,
   "id": "fd4c7934",
   "metadata": {},
   "outputs": [],
   "source": []
  },
  {
   "cell_type": "code",
   "execution_count": null,
   "id": "3c3190b8",
   "metadata": {},
   "outputs": [],
   "source": [
    "fs = GridFS(db)\n",
    "audio_file_path = 'path/to/your/audio.mp3'\n",
    "with open(audio_file_path, 'rb') as audio_file:\n",
    "    file_id = fs.put(audio_file, filename='audio.mp3', content_type='audio/mpeg')\n",
    "print(f\"File inserted with ID: {file_id}\")"
   ]
  },
  {
   "cell_type": "code",
   "execution_count": null,
   "id": "edbe42cd",
   "metadata": {},
   "outputs": [],
   "source": [
    "import hashlib\n",
    "message = \"This is a secret message.\"\n",
    "message_bytes = message.encode('utf-8')\n",
    "sha256_hash = hashlib.sha256()\n",
    "sha256_hash.update(message_bytes)\n",
    "hex_digest = sha256_hash.hexdigest()\n",
    "print(f\"Original message: '{message}'\")\n",
    "print(f\"SHA-256 hash: {hex_digest}\")"
   ]
  },
  {
   "cell_type": "code",
   "execution_count": null,
   "id": "7a86adb1",
   "metadata": {},
   "outputs": [],
   "source": [
    "import json\n",
    "import hashlib\n",
    "def create_unique_identifier(message:dict) -> str:\n",
    "    message_bytes = json.dumps(message , sort_keys=True).encode('utf-8')\n",
    "    sha256_hash = hashlib.sha256()\n",
    "    sha256_hash.update(message_bytes)\n",
    "    return sha256_hash.hexdigest()\n",
    "\n",
    "create_unique_identifier({\"aa\":12})\n"
   ]
  },
  {
   "cell_type": "code",
   "execution_count": null,
   "id": "221b78b6",
   "metadata": {},
   "outputs": [],
   "source": [
    "\n",
    "audio_file_path = r\"C:\\Users\\isaac\\source\\repos\\The_Muezzin-Podcast_Content_Monitoring_System\\data\\podcasts\\download (1).wav\"\n",
    "with open(audio_file_path, 'rb') as audio_file:\n",
    "    print(audio_file.read())"
   ]
  },
  {
   "cell_type": "code",
   "execution_count": null,
   "id": "85583b3f",
   "metadata": {},
   "outputs": [],
   "source": [
    "from data_access_layer.file_manager import FileManager\n",
    "FileManager.uploading_binary_file(audio_file_path)"
   ]
  },
  {
   "cell_type": "code",
   "execution_count": null,
   "id": "74865341",
   "metadata": {},
   "outputs": [],
   "source": [
    "message = {\"a\":\"a\",\"grape\":1}\n",
    "message.pop(\"grape\", None)\n",
    "message"
   ]
  },
  {
   "cell_type": "code",
   "execution_count": null,
   "id": "8c6a0c08",
   "metadata": {},
   "outputs": [],
   "source": [
    "{\n",
    "    'name': 'download (14).wav',\n",
    "    'relative_path': 'data/podcasts',\n",
    "    'absolute_path': PosixPath('/app/data/podcasts/download (14).wav'), \n",
    "    'metadata': {\n",
    "        'stem': 'download (14)',\n",
    "        'suffix': '.wav'\n",
    "        }, \n",
    "    'statistics': {\n",
    "        'size': 5683770,\n",
    "        'last_modification_time': '2025-09-07 07:48:58',\n",
    "        'creation_time': '2025-09-07 07:48:58',\n",
    "        'last_access_time': '2025-09-07 07:48:58'\n",
    "        }\n",
    "    }"
   ]
  },
  {
   "cell_type": "code",
   "execution_count": null,
   "id": "25851bd3",
   "metadata": {},
   "outputs": [],
   "source": [
    "{\"mappings\":{\n",
    "    \"properties\":{\n",
    "        \"name\":{ \"type\": \"keyword\" },\n",
    "        \"stem\":{ \"type\": \"keyword\" },\n",
    "        \"suffix\":{ \"type\": \"keyword\" },\n",
    "        \"statistics\": {\n",
    "            \"type\": \"object\",\n",
    "            \"properties\":{\n",
    "                'size': { \"type\": \"integer\" },\n",
    "                'last_modification_time': { \"type\": \"date\" },\n",
    "                'creation_time': { \"type\": \"date\" },\n",
    "                'last_access_time':{ \"type\": \"date\" },\n",
    "                }\n",
    "            }\n",
    "        }\n",
    "    }\n",
    "}"
   ]
  },
  {
   "cell_type": "code",
   "execution_count": null,
   "id": "edc66988",
   "metadata": {},
   "outputs": [],
   "source": [
    "PUT my_index\n",
    "{\n",
    "  \"mappings\": {\n",
    "    \"properties\": {\n",
    "      \"user_data\": {\n",
    "        \"type\": \"object\",\n",
    "        \"properties\": {\n",
    "          \"address\": {\n",
    "            \"type\": \"object\",\n",
    "            \"properties\": {\n",
    "              \"street\": { \"type\": \"keyword\" },\n",
    "              \"city\": { \"type\": \"keyword\" }\n",
    "            }\n",
    "          },\n",
    "          \"contact\": {\n",
    "            \"type\": \"object\",\n",
    "            \"properties\": {\n",
    "              \"email\": { \"type\": \"keyword\" },\n",
    "              \"phone\": { \"type\": \"keyword\" }\n",
    "            }\n",
    "          }\n",
    "        }\n",
    "      }\n",
    "    }\n",
    "  }\n",
    "}\n",
    "\n",
    "        self.dal_elasticsearch.build_mappings(mapping={\n",
    "            \"TweetID\": \"keyword\", \n",
    "            \"CreateDate\": \"date\", \n",
    "            \"text\": \"text\",\n",
    "            'weapons_detected':'keyword',\n",
    "        })"
   ]
  },
  {
   "cell_type": "code",
   "execution_count": null,
   "id": "0e1523cd",
   "metadata": {},
   "outputs": [],
   "source": [
    "import logging\n",
    "\n",
    "logging.basicConfig(level=logging.DEBUG)\n",
    "logging.getLogger('kafka').setLevel(logging.WARNING)\n",
    "logger =  logging.getLogger(\"module.storage_service\")\n",
    "\n",
    "logger.info(\"aa\")"
   ]
  },
  {
   "cell_type": "code",
   "execution_count": null,
   "id": "f2b913ab",
   "metadata": {},
   "outputs": [],
   "source": [
    "import logging\n",
    "import ecs_logging\n",
    "logger = logging.getLogger(\"app\")\n",
    "logger.setLevel(logging.INFO)\n",
    "handler = logging.FileHandler('app.json')\n",
    "handler.setFormatter(ecs_logging.StdlibFormatter())\n",
    "logger.addHandler(handler)\n",
    "\n"
   ]
  },
  {
   "cell_type": "code",
   "execution_count": null,
   "id": "8aa8f96f",
   "metadata": {},
   "outputs": [],
   "source": [
    "logger.info(\"This is an example log message.\")"
   ]
  },
  {
   "cell_type": "code",
   "execution_count": null,
   "id": "c81fb114",
   "metadata": {},
   "outputs": [],
   "source": [
    "\n"
   ]
  },
  {
   "cell_type": "code",
   "execution_count": null,
   "id": "50a38edc",
   "metadata": {},
   "outputs": [],
   "source": [
    "\n"
   ]
  },
  {
   "cell_type": "code",
   "execution_count": null,
   "id": "7bf84ad0",
   "metadata": {},
   "outputs": [],
   "source": [
    "\n",
    "\n"
   ]
  },
  {
   "cell_type": "code",
   "execution_count": null,
   "id": "5e8ce641",
   "metadata": {},
   "outputs": [],
   "source": [
    "from faster_whisper import WhisperModel\n",
    "model = WhisperModel(\"base\", device=\"cpu\")"
   ]
  },
  {
   "cell_type": "code",
   "execution_count": null,
   "id": "830d8d6b",
   "metadata": {},
   "outputs": [],
   "source": [
    "audio_path = r\"C:\\Users\\isaac\\source\\repos\\The_Muezzin-Podcast_Content_Monitoring_System\\data\\podcasts\\download (1).wav\"\n",
    "\n",
    "segments, info = model.transcribe(audio_path, language='en')\n",
    "\n",
    "for segment in segments:\n",
    "    print(f\"[{segment.start:.2f}s - {segment.end:.2f}s]: {segment.text}\")\n"
   ]
  },
  {
   "cell_type": "code",
   "execution_count": null,
   "id": "718aa844",
   "metadata": {},
   "outputs": [],
   "source": [
    "\n",
    "import io\n",
    "with open(audio_path, 'rb') as audio_file_object:\n",
    "    audio_stream = io.BytesIO(audio_file_object.read())\n",
    "\n",
    "\n",
    "segments, info = model.transcribe(audio_stream, language='en')\n",
    "\n",
    "for segment in segments:\n",
    "    print(\"-------------------\")\n",
    "    print(f\"[{segment.start:.2f}s - {segment.end:.2f}s]: {segment.text}\")\n"
   ]
  },
  {
   "cell_type": "code",
   "execution_count": null,
   "id": "416e812d",
   "metadata": {},
   "outputs": [],
   "source": [
    "from config import config\n",
    "from storage_service.storage_service_management.management import Management\n",
    "from utils.kafka_tools.kafka_tools import KafkaTools\n",
    "from utils.data_access_layer.dal_mongodb import MongoDal\n",
    "from utils.data_access_layer.dal_elasticsearch import ElasticSearchDal\n",
    "\n",
    "ELASTICSEARCH_HOST = config.ELASTICSEARCH_HOST\n",
    "ELASTICSEARCH_INDEX = config.ELASTICSEARCH_INDEX\n",
    "ELASTICSEARCH_MAPPING = config.ELASTICSEARCH_MAPPING\n",
    "ELASTICSEARCH_INDEX_LOG = config.ELASTICSEARCH_INDEX_LOG\n",
    "\n",
    "MONGO_CLIENT_STRING = config.MONGO_CLIENT_STRING\n",
    "MONGO_DB = config.MONGO_DB\n",
    "MONGO_COLLECTION = config.MONGO_COLLECTION\n",
    "\n",
    "\n",
    "dal_elasticsearch = ElasticSearchDal(elasticsearch_host=ELASTICSEARCH_HOST)\n",
    "dal_mongo = MongoDal(client_string=MONGO_CLIENT_STRING, database=MONGO_DB)\n",
    "    \n"
   ]
  },
  {
   "cell_type": "code",
   "execution_count": null,
   "id": "78879ed2",
   "metadata": {},
   "outputs": [],
   "source": [
    "file_id = \"3a046ce7db51681d2e46117e51653e6cdbe4709786f23eb929c8a72a21a7bb48\"\n",
    "find = dal_mongo.find_file(collection_name=MONGO_COLLECTION, field_name=\"file_id\", find=file_id)\n",
    "if find: \n",
    "    dal_mongo.get_file(collection_name=MONGO_COLLECTION, id=find._id).read()\n",
    "else: raise ValueError(\"file not find\")"
   ]
  },
  {
   "cell_type": "code",
   "execution_count": null,
   "id": "6543c5ef",
   "metadata": {},
   "outputs": [],
   "source": [
    "class sssss:\n",
    "    def __init__(self) -> None:\n",
    "        pass\n",
    "    \n",
    "    def a(self):\n",
    "        return \"\"\n",
    "\n",
    "c = sssss().a\n",
    "\n"
   ]
  },
  {
   "cell_type": "code",
   "execution_count": null,
   "id": "ba964e50",
   "metadata": {},
   "outputs": [],
   "source": [
    "\n",
    "a = \"R2Vub2NpZGUsV2FyIENyaW1lcyxBcGFydGhlaWQsTWFzc2FjcmUsTmFrYmEsRGlzcGxhY2VtZW50LEh1bWFuaXRhcmlhbiBDcmlzaXMsQmxvY2thZGUsT2NjdXBhdGlvbixSZWZ1Z2VlcyxJQ0MsQkRT\"\n",
    "b = \"RnJlZWRvbSBGbG90aWxsYSxSZXNpc3RhbmNlLExpYmVyYXRpb24sRnJlZSBQYWxlc3RpbmUsR2F6YSxDZWFzZWZpcmUsUHJvdGVzdCxVTlJXQQ==\"\n",
    "import base64\n",
    "\n",
    "base64_string = b\n",
    "decoded_bytes = base64.b64decode(base64_string.encode('utf-8'), validate=True)\n",
    "decoded_string = decoded_bytes.decode('utf-8')\n",
    "\n",
    "print(f\"Original Base64 string: {base64_string}\")\n",
    "print(f\"Decoded Python string: {decoded_string}\")\n"
   ]
  },
  {
   "cell_type": "code",
   "execution_count": null,
   "id": "ab0a1d30",
   "metadata": {},
   "outputs": [],
   "source": [
    "format(ord('='), \"x\")"
   ]
  },
  {
   "cell_type": "code",
   "execution_count": null,
   "id": "d8e789e3",
   "metadata": {},
   "outputs": [],
   "source": [
    "x = \"sss sss sss djdj\".split()\n",
    "c = [\"sss\", \"sss sss\"]    \n",
    "c2 = [\"djdj\"]\n",
    "sum(1 for i in x if i in c or) #+ sum(2 for i in x if i in c2) \n"
   ]
  },
  {
   "cell_type": "code",
   "execution_count": null,
   "id": "1233b4ef",
   "metadata": {},
   "outputs": [],
   "source": [
    "l = 114\n",
    "s = 15\n",
    "\n",
    "s * 100 / l"
   ]
  },
  {
   "cell_type": "code",
   "execution_count": null,
   "id": "3778bd86",
   "metadata": {},
   "outputs": [],
   "source": [
    "c = a['hits']['hits'][0][\"_source\"][\"transcribe\"]"
   ]
  },
  {
   "cell_type": "code",
   "execution_count": null,
   "id": "2007964e",
   "metadata": {},
   "outputs": [],
   "source": [
    "offensive_score(c, [\"policy\", \"collective\", \"a\" ,\"farmer\", 'rubble', 'raised', \"and\", \"until\", \"the\", \"blockade\", \"get\",\"reach\" ], [])"
   ]
  },
  {
   "cell_type": "code",
   "execution_count": null,
   "id": "4af57cde",
   "metadata": {},
   "outputs": [],
   "source": [
    "from elasticsearch import Elasticsearch, helpers\n",
    "\n",
    "es:Elasticsearch = Elasticsearch(\"http://localhost:9200\")\n",
    "\n",
    "\n",
    "query = {\n",
    "        \"query\":    {\n",
    "            \"bool\": \n",
    "                { \n",
    "                    \"must\": \n",
    "                        [\n",
    "                            {\"match\": {\"file_id\": \"0477f279a82512d8ad575dbcbf8d6ac552b1465a2f52ac10913da6622019a901\"}},\n",
    "                        ],\n",
    "            }\n",
    "        }\n",
    "    }\n",
    "\n",
    "\n",
    "\n",
    "\n",
    "index_name = \"audio_files-transcription\"\n",
    "a = es.search(index=index_name, query={\"match\": {\"file_id\": \"0477f279a82512d8ad575dbcbf8d6ac552b1465a2f52ac10913da6622019a901\"}})\n",
    "es.update(index=index_name,id=a['hits']['hits'][0]['_id'],doc={\"aaa\":\"dmwimdiejfie\"})\n",
    "\n",
    "# def update_document(self, index_name:str, document:dict, id=None, query=None):\n",
    "#     if query: return self.es.update_by_query(index=index_name, body={\"query\": query})\n",
    "    # elif id is not None: return self.es.update(index=index_name,id=id,doc=document)"
   ]
  },
  {
   "cell_type": "code",
   "execution_count": null,
   "id": "9633e6df",
   "metadata": {},
   "outputs": [],
   "source": [
    "a = es.search(index=index_name, query={\"match\": {\"file_id\": \"0477f279a82512d8ad575dbcbf8d6ac552b1465a2f52ac10913da6622019a901\"}})"
   ]
  },
  {
   "cell_type": "code",
   "execution_count": null,
   "id": "bd922901",
   "metadata": {},
   "outputs": [],
   "source": [
    "query_to_delete = {\n",
    "        \"query\":    {\n",
    "            \"bool\": \n",
    "                { \n",
    "                    \"must\": \n",
    "                        [\n",
    "                            {\"term\": {\"Antisemitic\": False}},\n",
    "                            {\"terms\": {\"sentiment\": [\"Neutral\", \"Positive\"]}}\n",
    "                        ],\n",
    "                    \"must_not\": \n",
    "                        [\n",
    "                            {\"exists\": {\"field\": \"weapons_detected\"}}\n",
    "                        ]\n",
    "            }\n",
    "        }\n",
    "    }"
   ]
  },
  {
   "cell_type": "code",
   "execution_count": 575,
   "id": "022619e3",
   "metadata": {},
   "outputs": [
    {
     "data": {
      "text/plain": [
       "25.942802634004728"
      ]
     },
     "execution_count": 575,
     "metadata": {},
     "output_type": "execute_result"
    }
   ],
   "source": [
    "import math\n",
    "\n",
    "\n",
    "score = 0\n",
    "max_score = 10\n",
    "min(max_score  / (score or 0.01), 100)\n",
    "math.log(1 + 184848541848)"
   ]
  }
 ],
 "metadata": {
  "kernelspec": {
   "display_name": "Python 3",
   "language": "python",
   "name": "python3"
  },
  "language_info": {
   "codemirror_mode": {
    "name": "ipython",
    "version": 3
   },
   "file_extension": ".py",
   "mimetype": "text/x-python",
   "name": "python",
   "nbconvert_exporter": "python",
   "pygments_lexer": "ipython3",
   "version": "3.13.3"
  }
 },
 "nbformat": 4,
 "nbformat_minor": 5
}
